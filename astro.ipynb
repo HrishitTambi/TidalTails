{
 "cells": [
  {
   "cell_type": "code",
   "execution_count": 1,
   "id": "2b9973b8",
   "metadata": {
    "_cell_guid": "b1076dfc-b9ad-4769-8c92-a6c4dae69d19",
    "_uuid": "8f2839f25d086af736a60e9eeb907d3b93b6e0e5",
    "execution": {
     "iopub.execute_input": "2023-02-22T08:22:09.033486Z",
     "iopub.status.busy": "2023-02-22T08:22:09.032352Z",
     "iopub.status.idle": "2023-02-22T08:22:09.097005Z",
     "shell.execute_reply": "2023-02-22T08:22:09.095396Z"
    },
    "papermill": {
     "duration": 0.074434,
     "end_time": "2023-02-22T08:22:09.100357",
     "exception": false,
     "start_time": "2023-02-22T08:22:09.025923",
     "status": "completed"
    },
    "tags": []
   },
   "outputs": [
    {
     "name": "stdout",
     "output_type": "stream",
     "text": [
      "/kaggle/input/teutsch-35/Teutsch.fit\n",
      "/kaggle/input/ps-isochrone/output420436036148.dat.txt\n",
      "/kaggle/input/gulliver44/ocdata_sth.r126.2.r128.2.d-39.1.d-37.1.fits\n",
      "/kaggle/input/gulliver-new-members/result (3).csv\n",
      "/kaggle/input/ps-isochrone2/output667587140183.dat.txt\n",
      "/kaggle/input/gulliver44-mem/Gulliver_44_members.csv\n",
      "/kaggle/input/teutsch-35-ud/asu (1).fit\n"
     ]
    }
   ],
   "source": [
    "import os\n",
    "for dirname, _, filenames in os.walk('/kaggle/input'):\n",
    "    for filename in filenames:\n",
    "        print(os.path.join(dirname, filename))"
   ]
  },
  {
   "cell_type": "code",
   "execution_count": 2,
   "id": "7adda9d3",
   "metadata": {
    "execution": {
     "iopub.execute_input": "2023-02-22T08:22:09.109642Z",
     "iopub.status.busy": "2023-02-22T08:22:09.108488Z",
     "iopub.status.idle": "2023-02-22T08:22:13.378221Z",
     "shell.execute_reply": "2023-02-22T08:22:13.376917Z"
    },
    "papermill": {
     "duration": 4.277821,
     "end_time": "2023-02-22T08:22:13.381691",
     "exception": false,
     "start_time": "2023-02-22T08:22:09.103870",
     "status": "completed"
    },
    "tags": []
   },
   "outputs": [],
   "source": [
    "import pandas as pd\n",
    "import numpy as np\n",
    "from astropy.table import Table\n",
    "import matplotlib.pyplot as plt\n",
    "\n",
    "dat = Table.read('/kaggle/input/gulliver44/ocdata_sth.r126.2.r128.2.d-39.1.d-37.1.fits', format='fits')\n",
    "df_44_0 = dat.to_pandas()\n",
    "dat_2 = Table.read('/kaggle/input/teutsch-35/Teutsch.fit', format='fits')\n",
    "df_35 = dat_2.to_pandas()\n",
    "dat_3 = Table.read('/kaggle/input/teutsch-35-ud/asu (1).fit', format='fits')\n",
    "df_35_1 = dat_3.to_pandas()\n",
    "df_44 = pd.read_csv(\"/kaggle/input/gulliver44-mem/Gulliver_44_members.csv\")\n",
    "df_44_mem = pd.read_csv(\"/kaggle/input/gulliver-new-members/result (3).csv\")"
   ]
  },
  {
   "cell_type": "code",
   "execution_count": 3,
   "id": "93c2aef5",
   "metadata": {
    "execution": {
     "iopub.execute_input": "2023-02-22T08:22:13.389868Z",
     "iopub.status.busy": "2023-02-22T08:22:13.389384Z",
     "iopub.status.idle": "2023-02-22T08:22:13.672507Z",
     "shell.execute_reply": "2023-02-22T08:22:13.670821Z"
    },
    "papermill": {
     "duration": 0.290689,
     "end_time": "2023-02-22T08:22:13.675564",
     "exception": false,
     "start_time": "2023-02-22T08:22:13.384875",
     "status": "completed"
    },
    "tags": []
   },
   "outputs": [
    {
     "data": {
      "image/png": "[encoded data removed]",
      "text/plain": [
       "<Figure size 432x288 with 1 Axes>"
      ]
     },
     "metadata": {
      "needs_background": "light"
     },
     "output_type": "display_data"
    }
   ],
   "source": [
    "x = df_44['BPmag'] - df_44['RPmag']\n",
    "y = df_44['Gmag']\n",
    "\n",
    "fig, ax = plt.subplots()\n",
    "ax.scatter(x, y)\n",
    "ax.invert_yaxis()\n",
    "ax.set_xlabel(\"BP-RP\")\n",
    "ax.set_ylabel(\"Gmag\")\n",
    "ax.set_title('Gulliver44')\n",
    "\n",
    "plt.show()"
   ]
  },
  {
   "cell_type": "code",
   "execution_count": 4,
   "id": "78994cc8",
   "metadata": {
    "execution": {
     "iopub.execute_input": "2023-02-22T08:22:13.685108Z",
     "iopub.status.busy": "2023-02-22T08:22:13.684250Z",
     "iopub.status.idle": "2023-02-22T08:22:13.690090Z",
     "shell.execute_reply": "2023-02-22T08:22:13.689097Z"
    },
    "papermill": {
     "duration": 0.013616,
     "end_time": "2023-02-22T08:22:13.692696",
     "exception": false,
     "start_time": "2023-02-22T08:22:13.679080",
     "status": "completed"
    },
    "tags": []
   },
   "outputs": [],
   "source": [
    "# Finding Corresponding Member in Gulliver44 PS Data  #\n",
    "# new_df = pd.DataFrame(df_44.iloc[:, [1, 2]])\n",
    "# def find_corresponding_member(row):\n",
    "#     members_RA = new_df['RA']\n",
    "#     members_Dec = new_df['DEC']\n",
    "#     row_RA = row['ra']\n",
    "#     row_Dec = row['dec']\n",
    "#     for member_RA, member_Dec in zip(members_RA, members_Dec):\n",
    "#         distance = np.sqrt(((member_RA - row_RA)**2) + ((member_Dec - row_Dec)**2))\n",
    "#         if distance <= 0.000277778:\n",
    "#             new_df.drop(new_df[new_df['RA'] == member_RA].index)\n",
    "#             new_df.drop(new_df[new_df['DEC'] == member_Dec].index)\n",
    "#             return True\n",
    "#     return False\n",
    "\n",
    "# df_44_0['is_member'] = df_44_0.apply(find_corresponding_member, axis=1)\n",
    "# result_df = df_44_0[df_44_0['is_member'] == True]\n",
    "# result_df.to_csv(\"result.csv\", index=False)"
   ]
  },
  {
   "cell_type": "code",
   "execution_count": 5,
   "id": "1a92d885",
   "metadata": {
    "execution": {
     "iopub.execute_input": "2023-02-22T08:22:13.702135Z",
     "iopub.status.busy": "2023-02-22T08:22:13.701345Z",
     "iopub.status.idle": "2023-02-22T08:22:14.684004Z",
     "shell.execute_reply": "2023-02-22T08:22:14.682563Z"
    },
    "papermill": {
     "duration": 0.991038,
     "end_time": "2023-02-22T08:22:14.687208",
     "exception": false,
     "start_time": "2023-02-22T08:22:13.696170",
     "status": "completed"
    },
    "tags": []
   },
   "outputs": [
    {
     "data": {
      "image/png": "[encoded data removed]",
      "text/plain": [
       "<Figure size 432x288 with 1 Axes>"
      ]
     },
     "metadata": {
      "needs_background": "light"
     },
     "output_type": "display_data"
    }
   ],
   "source": [
    "import matplotlib.pyplot as plt\n",
    "import seaborn as sns\n",
    "\n",
    "x = df_44_mem['i_ave_sth'] - df_44_mem['z_ave_sth']\n",
    "y = df_44_mem['i_ave_sth']\n",
    "\n",
    "fig, ax = plt.subplots()\n",
    "ax.scatter(x, y)\n",
    "ax.invert_yaxis()\n",
    "ax.set_xlabel(\"i-z\")\n",
    "ax.set_ylabel(\"i\")\n",
    "ax.set_title('Gulliver44-PS')\n",
    "\n",
    "plt.show()"
   ]
  },
  {
   "cell_type": "code",
   "execution_count": 6,
   "id": "d6d8d123",
   "metadata": {
    "execution": {
     "iopub.execute_input": "2023-02-22T08:22:14.696630Z",
     "iopub.status.busy": "2023-02-22T08:22:14.696162Z",
     "iopub.status.idle": "2023-02-22T08:22:14.863169Z",
     "shell.execute_reply": "2023-02-22T08:22:14.861709Z"
    },
    "papermill": {
     "duration": 0.174969,
     "end_time": "2023-02-22T08:22:14.865991",
     "exception": false,
     "start_time": "2023-02-22T08:22:14.691022",
     "status": "completed"
    },
    "tags": []
   },
   "outputs": [
    {
     "data": {
      "image/png": "[encoded data removed]",
      "text/plain": [
       "<Figure size 432x288 with 1 Axes>"
      ]
     },
     "metadata": {
      "needs_background": "light"
     },
     "output_type": "display_data"
    }
   ],
   "source": [
    "x = df_44_mem['j_ave'] - df_44_mem['k_ave']\n",
    "y = df_44_mem['k_ave']\n",
    "\n",
    "fig, ax = plt.subplots()\n",
    "ax.scatter(x, y)\n",
    "ax.invert_yaxis()\n",
    "ax.set_xlabel(\"j-k\")\n",
    "ax.set_ylabel(\"k\")\n",
    "ax.set_title('Gulliver44-PS')\n",
    "\n",
    "plt.show()"
   ]
  },
  {
   "cell_type": "code",
   "execution_count": 7,
   "id": "40af10d4",
   "metadata": {
    "execution": {
     "iopub.execute_input": "2023-02-22T08:22:14.876827Z",
     "iopub.status.busy": "2023-02-22T08:22:14.875575Z",
     "iopub.status.idle": "2023-02-22T08:22:15.252129Z",
     "shell.execute_reply": "2023-02-22T08:22:15.251023Z"
    },
    "papermill": {
     "duration": 0.384961,
     "end_time": "2023-02-22T08:22:15.255095",
     "exception": false,
     "start_time": "2023-02-22T08:22:14.870134",
     "status": "completed"
    },
    "tags": []
   },
   "outputs": [
    {
     "data": {
      "image/png": "[encoded data removed]",
      "text/plain": [
       "<Figure size 432x288 with 1 Axes>"
      ]
     },
     "metadata": {
      "needs_background": "light"
     },
     "output_type": "display_data"
    }
   ],
   "source": [
    "iso_data = np.loadtxt(\"/kaggle/input/ps-isochrone2/output667587140183.dat.txt\")\n",
    "\n",
    "i = iso_data[:, 30]\n",
    "z = iso_data[:, 31]\n",
    "i = i[:-1]\n",
    "z = z[:-1]\n",
    "\n",
    "i_z = i - z\n",
    "plt.plot(i_z, i, c='yellow', label='Isochrone')\n",
    "# plt.ylim(9.5, 18.5)\n",
    "plt.gca().invert_yaxis()\n",
    "plt.xlabel('i-z')\n",
    "plt.ylabel('i mag')\n",
    "plt.title('Isochrone')\n",
    "plt.legend()\n",
    "plt.show()"
   ]
  }
 ],
 "metadata": {
  "kernelspec": {
   "display_name": "Python 3",
   "language": "python",
   "name": "python3"
  },
  "language_info": {
   "codemirror_mode": {
    "name": "ipython",
    "version": 3
   },
   "file_extension": ".py",
   "mimetype": "text/x-python",
   "name": "python",
   "nbconvert_exporter": "python",
   "pygments_lexer": "ipython3",
   "version": "3.7.12"
  },
  "papermill": {
   "default_parameters": {},
   "duration": 18.307108,
   "end_time": "2023-02-22T08:22:16.385248",
   "environment_variables": {},
   "exception": null,
   "input_path": "__notebook__.ipynb",
   "output_path": "__notebook__.ipynb",
   "parameters": {},
   "start_time": "2023-02-22T08:21:58.078140",
   "version": "2.3.4"
  }
 },
 "nbformat": 4,
 "nbformat_minor": 5
}
